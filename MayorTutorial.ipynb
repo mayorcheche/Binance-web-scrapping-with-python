{
 "cells": [
  {
   "cell_type": "code",
   "execution_count": 2,
   "id": "4f19a667-38f4-47c5-ba71-b04128128fbb",
   "metadata": {},
   "outputs": [
    {
     "data": {
      "text/plain": [
       "int"
      ]
     },
     "execution_count": 2,
     "metadata": {},
     "output_type": "execute_result"
    }
   ],
   "source": [
    "############----VARIABLES IN PYTHON----###########\n"
   ]
  },
  {
   "cell_type": "code",
   "execution_count": 1,
   "id": "3e306670-ac5a-4b12-8e2a-e1ad93260c96",
   "metadata": {},
   "outputs": [
    {
     "name": "stdout",
     "output_type": "stream",
     "text": [
      "22\n"
     ]
    }
   ],
   "source": [
    "######---THIS IS ASSIGNING VARIABLE\n",
    "\n",
    "x = 22\n",
    "print(x)\n"
   ]
  },
  {
   "cell_type": "code",
   "execution_count": 3,
   "id": "1cf3509c-d6d8-4c92-82c3-3383ebfb8f18",
   "metadata": {},
   "outputs": [
    {
     "name": "stdout",
     "output_type": "stream",
     "text": [
      "mint chocolate chips\n"
     ]
    }
   ],
   "source": [
    "y = 'mint chocolate chips'\n",
    "\n",
    "print(y)"
   ]
  },
  {
   "cell_type": "code",
   "execution_count": 4,
   "id": "5e536d55-cb7a-40ed-99c3-adab3be38f23",
   "metadata": {},
   "outputs": [
    {
     "data": {
      "text/plain": [
       "str"
      ]
     },
     "execution_count": 4,
     "metadata": {},
     "output_type": "execute_result"
    }
   ],
   "source": [
    "type(y)"
   ]
  },
  {
   "cell_type": "code",
   "execution_count": 5,
   "id": "c5b23cdf-308a-4f71-bdc2-f8340edf4342",
   "metadata": {},
   "outputs": [
    {
     "name": "stdout",
     "output_type": "stream",
     "text": [
      "156\n"
     ]
    }
   ],
   "source": [
    "e = 24\n",
    "s = 56\n",
    "r = 76\n",
    "\n",
    "print(e + s + r)"
   ]
  },
  {
   "cell_type": "code",
   "execution_count": 7,
   "id": "127a86c2-2965-4c74-8af5-158a9ca1d76b",
   "metadata": {},
   "outputs": [
    {
     "name": "stdout",
     "output_type": "stream",
     "text": [
      "chocolate\n"
     ]
    }
   ],
   "source": [
    "y = 'chocolate'\n",
    "\n",
    "print(y)"
   ]
  },
  {
   "cell_type": "code",
   "execution_count": 10,
   "id": "a22794ee-535e-4cff-90ad-b2e843e2a655",
   "metadata": {},
   "outputs": [
    {
     "name": "stdout",
     "output_type": "stream",
     "text": [
      "vanillla\n",
      "chocolate\n",
      "rocky road\n"
     ]
    }
   ],
   "source": [
    "#####---THIS IS AN EXAMPLE OF A STRING\n",
    "\n",
    "x,y,z = 'chocolate', 'vanillla', 'rocky road'\n",
    "\n",
    "print(y)\n",
    "print(x)\n",
    "print(z)\n",
    "\n"
   ]
  },
  {
   "cell_type": "code",
   "execution_count": 9,
   "id": "e85efdae-fa28-4f25-b745-953705766e79",
   "metadata": {},
   "outputs": [
    {
     "name": "stdout",
     "output_type": "stream",
     "text": [
      "['chocolate', 'vanillla', 'rocky road']\n"
     ]
    }
   ],
   "source": [
    "#########---THIS IS AN EXAMPLE OF A LIST\n",
    "\n",
    "ice_cream = ['chocolate', 'vanillla', 'rocky road']\n",
    "\n",
    "print(ice_cream)"
   ]
  },
  {
   "cell_type": "code",
   "execution_count": 11,
   "id": "8f471658-83e9-4123-be58-915bf94308c7",
   "metadata": {},
   "outputs": [
    {
     "name": "stdout",
     "output_type": "stream",
     "text": [
      "['chocolate', 'vanillla', 'rocky road']\n"
     ]
    }
   ],
   "source": [
    "ice_cream = ['chocolate', 'vanillla', 'rocky road']\n",
    "\n",
    "X,Y,Z = ice_cream\n",
    "\n",
    "print(ice_cream)"
   ]
  },
  {
   "cell_type": "code",
   "execution_count": 12,
   "id": "cddd8af4-18f6-4959-8f78-3b5e78ed68fc",
   "metadata": {},
   "outputs": [
    {
     "name": "stdout",
     "output_type": "stream",
     "text": [
      "chocolate\n",
      "vanillla\n",
      "rocky road\n"
     ]
    }
   ],
   "source": [
    "ice_cream = ['chocolate', 'vanillla', 'rocky road']\n",
    "X,Y,Z = ice_cream\n",
    "\n",
    "print(x)\n",
    "print(y)\n",
    "print(z)\n"
   ]
  },
  {
   "cell_type": "code",
   "execution_count": 13,
   "id": "d00aec52-c392-4e70-963f-804a8e18193d",
   "metadata": {},
   "outputs": [
    {
     "name": "stdout",
     "output_type": "stream",
     "text": [
      "ice cream is my fav.\n"
     ]
    }
   ],
   "source": [
    "x = 'ice cream is my fav' + '.'\n",
    "\n",
    "print(x)"
   ]
  },
  {
   "cell_type": "code",
   "execution_count": 17,
   "id": "7ce9fb3f-ba0c-438b-9252-d3ad1f88373a",
   "metadata": {},
   "outputs": [
    {
     "name": "stdout",
     "output_type": "stream",
     "text": [
      "ice cream is my fav.vanilllarocky road\n"
     ]
    }
   ],
   "source": [
    "v = '29' + '/' + '11' + '/' + '2024'\n",
    "\n"
   ]
  },
  {
   "cell_type": "code",
   "execution_count": 18,
   "id": "83cba340-d958-4eb8-903d-53f127c99aa5",
   "metadata": {},
   "outputs": [
    {
     "name": "stdout",
     "output_type": "stream",
     "text": [
      "yellow 3\n"
     ]
    }
   ],
   "source": [
    "g = 'yellow'\n",
    "p =  3\n",
    "\n",
    "print(g,p)"
   ]
  },
  {
   "cell_type": "code",
   "execution_count": null,
   "id": "0fb67a43-da92-475b-8794-e4d5b9c81d55",
   "metadata": {},
   "outputs": [],
   "source": []
  },
  {
   "cell_type": "code",
   "execution_count": null,
   "id": "cbe39774-5ea4-44c2-a714-87bb399a9408",
   "metadata": {},
   "outputs": [],
   "source": [
    "#########-----DATA TYPES IN PYTHON----########"
   ]
  },
  {
   "cell_type": "code",
   "execution_count": 19,
   "id": "0624473d-74eb-4070-a72f-d11665862845",
   "metadata": {},
   "outputs": [
    {
     "data": {
      "text/plain": [
       "int"
      ]
     },
     "execution_count": 19,
     "metadata": {},
     "output_type": "execute_result"
    }
   ],
   "source": [
    "type(12)"
   ]
  },
  {
   "cell_type": "code",
   "execution_count": 20,
   "id": "72399263-1540-4596-a869-947cd4c054b1",
   "metadata": {},
   "outputs": [
    {
     "data": {
      "text/plain": [
       "float"
      ]
     },
     "execution_count": 20,
     "metadata": {},
     "output_type": "execute_result"
    }
   ],
   "source": [
    "type(12 + 10.25)"
   ]
  },
  {
   "cell_type": "code",
   "execution_count": 21,
   "id": "a7ae99fb-630d-4f6f-b20e-b53234ebe9d4",
   "metadata": {},
   "outputs": [
    {
     "data": {
      "text/plain": [
       "complex"
      ]
     },
     "execution_count": 21,
     "metadata": {},
     "output_type": "execute_result"
    }
   ],
   "source": [
    "###Note that when using the complex data type j is the best to use, if you use some diff you  will get an error\n",
    "\n",
    "\n",
    "type(12 + 3j)"
   ]
  },
  {
   "cell_type": "code",
   "execution_count": 23,
   "id": "b9217a17-3f3c-48f6-a9e7-05c94ad580f0",
   "metadata": {},
   "outputs": [
    {
     "data": {
      "text/plain": [
       "bool"
      ]
     },
     "execution_count": 23,
     "metadata": {},
     "output_type": "execute_result"
    }
   ],
   "source": [
    "type(1 > 5)"
   ]
  },
  {
   "cell_type": "code",
   "execution_count": 24,
   "id": "1e9a324e-4a45-4236-8d78-602712a6b408",
   "metadata": {},
   "outputs": [
    {
     "data": {
      "text/plain": [
       "'SINGLE QUOTE'"
      ]
     },
     "execution_count": 24,
     "metadata": {},
     "output_type": "execute_result"
    }
   ],
   "source": [
    "#STRINGS\n",
    "\n",
    "'SINGLE QUOTE'"
   ]
  },
  {
   "cell_type": "code",
   "execution_count": 26,
   "id": "15e89c32-4f39-482f-82e3-4213b9d73f51",
   "metadata": {},
   "outputs": [
    {
     "data": {
      "text/plain": [
       "'DOUBLE QUOTE'"
      ]
     },
     "execution_count": 26,
     "metadata": {},
     "output_type": "execute_result"
    }
   ],
   "source": [
    "\"DOUBLE QUOTE\""
   ]
  },
  {
   "cell_type": "code",
   "execution_count": 47,
   "id": "70eee2bd-4f91-41fe-bd5b-02300a74d8ef",
   "metadata": {},
   "outputs": [
    {
     "name": "stdout",
     "output_type": "stream",
     "text": [
      "ll\n"
     ]
    }
   ],
   "source": [
    "######--indexing a string\n",
    "\n",
    "a = 'Hello world!'\n",
    "\n",
    "print(a[2:4])"
   ]
  },
  {
   "cell_type": "code",
   "execution_count": 48,
   "id": "601f8350-929f-4c8f-b4e2-79b6290daab7",
   "metadata": {},
   "outputs": [
    {
     "data": {
      "text/plain": [
       "'Hello world!Hello world!Hello world!'"
      ]
     },
     "execution_count": 48,
     "metadata": {},
     "output_type": "execute_result"
    }
   ],
   "source": [
    "a*3"
   ]
  },
  {
   "cell_type": "code",
   "execution_count": null,
   "id": "7304dba8-1443-4369-ad21-23416f7a9c54",
   "metadata": {},
   "outputs": [],
   "source": []
  },
  {
   "cell_type": "code",
   "execution_count": null,
   "id": "062c8e6c-5484-46d7-aca7-5a5d13b99743",
   "metadata": {},
   "outputs": [],
   "source": [
    "#LISTS-----the bracket is what makes a list []"
   ]
  },
  {
   "cell_type": "code",
   "execution_count": null,
   "id": "f2255a20-b2f7-452e-a518-ba85e4ab6099",
   "metadata": {},
   "outputs": [],
   "source": [
    "[1, 2, 3]"
   ]
  },
  {
   "cell_type": "code",
   "execution_count": 49,
   "id": "f0b15946-a78e-43e6-a266-9226113338fc",
   "metadata": {},
   "outputs": [
    {
     "data": {
      "text/plain": [
       "['chocolate', 'vanillla', 'rocky road']"
      ]
     },
     "execution_count": 49,
     "metadata": {},
     "output_type": "execute_result"
    }
   ],
   "source": [
    "####---adding strings to a list\n",
    "\n",
    "['chocolate', 'vanillla', 'rocky road']"
   ]
  },
  {
   "cell_type": "code",
   "execution_count": null,
   "id": "b7e57b21-1719-449d-b6a4-0935bb3f1bf0",
   "metadata": {},
   "outputs": [],
   "source": [
    "['vanilla', 'lolly', ['rocky', 'road'], T]"
   ]
  },
  {
   "cell_type": "code",
   "execution_count": 52,
   "id": "f949947f-44c8-4b82-bddd-662031498028",
   "metadata": {},
   "outputs": [
    {
     "data": {
      "text/plain": [
       "['chocolate', 'vanillla', 'rocky road', 'salted caramel']"
      ]
     },
     "execution_count": 52,
     "metadata": {},
     "output_type": "execute_result"
    }
   ],
   "source": [
    "ice_cream = ['chocolate', 'vanillla', 'rocky road']\n",
    "\n",
    "######----append adds a new variable to the list of strings\n",
    "ice_cream.append('salted caramel')\n",
    "\n",
    "ice_cream"
   ]
  },
  {
   "cell_type": "code",
   "execution_count": 54,
   "id": "9785e155-fd4c-4de9-ba5c-a7a88a616652",
   "metadata": {},
   "outputs": [
    {
     "data": {
      "text/plain": [
       "'salted caramel'"
      ]
     },
     "execution_count": 54,
     "metadata": {},
     "output_type": "execute_result"
    }
   ],
   "source": [
    "ice_cream[3]"
   ]
  },
  {
   "cell_type": "code",
   "execution_count": 55,
   "id": "150d8453-2ca8-463d-91af-2690c33014a1",
   "metadata": {},
   "outputs": [
    {
     "data": {
      "text/plain": [
       "['chocolate', 'vanillla', 'rocky road', 'butter donut']"
      ]
     },
     "execution_count": 55,
     "metadata": {},
     "output_type": "execute_result"
    }
   ],
   "source": [
    "######----this changes the index 3 from the previous list of strings to a new variable \n",
    "\n",
    "ice_cream[3] = 'butter donut'\n",
    "\n",
    "ice_cream"
   ]
  },
  {
   "cell_type": "code",
   "execution_count": 59,
   "id": "908ec9dd-a308-4e6b-a87c-42b06d011657",
   "metadata": {},
   "outputs": [
    {
     "data": {
      "text/plain": [
       "['rocky', 'road']"
      ]
     },
     "execution_count": 59,
     "metadata": {},
     "output_type": "execute_result"
    }
   ],
   "source": [
    "#####----a list within a list\n",
    "\n",
    "nest_list = ['vanilla', 'lolly', ['rocky', 'road'], True]\n",
    "\n",
    "nest_list[2]\n"
   ]
  },
  {
   "cell_type": "code",
   "execution_count": 60,
   "id": "f623a95f-fed4-4f89-aa2e-4ae72a1bbf5a",
   "metadata": {},
   "outputs": [
    {
     "data": {
      "text/plain": [
       "'road'"
      ]
     },
     "execution_count": 60,
     "metadata": {},
     "output_type": "execute_result"
    }
   ],
   "source": [
    "nest_list[2][1]"
   ]
  },
  {
   "cell_type": "code",
   "execution_count": null,
   "id": "97da8544-07da-47e9-ba69-fda9510691d3",
   "metadata": {},
   "outputs": [],
   "source": []
  },
  {
   "cell_type": "code",
   "execution_count": 61,
   "id": "7db65f05-ec00-41fb-8b8f-24980604c427",
   "metadata": {},
   "outputs": [
    {
     "data": {
      "text/plain": [
       "tuple"
      ]
     },
     "execution_count": 61,
     "metadata": {},
     "output_type": "execute_result"
    }
   ],
   "source": [
    "####---TUPLES(CANNOT BE MODIFIED)----is used for when a data is never going to change for example name of country\n",
    "\n",
    "\n",
    "tuples_scoops = (1,2,3,2,1)\n",
    "type(tuples_scoops)"
   ]
  },
  {
   "cell_type": "code",
   "execution_count": null,
   "id": "86c400f7-b041-44ad-9365-011674eb6c48",
   "metadata": {},
   "outputs": [],
   "source": []
  },
  {
   "cell_type": "code",
   "execution_count": 63,
   "id": "3d34580d-4a29-48b9-a31a-efa76f145e73",
   "metadata": {},
   "outputs": [
    {
     "data": {
      "text/plain": [
       "set"
      ]
     },
     "execution_count": 63,
     "metadata": {},
     "output_type": "execute_result"
    }
   ],
   "source": [
    "#### SETS (is unordered and cannot be indexed and cannot contain duplicate)\n",
    "\n",
    "daily_pints =  {1,2,3}\n",
    "\n",
    "type(daily_pints)"
   ]
  },
  {
   "cell_type": "code",
   "execution_count": 64,
   "id": "0fa1734d-ff51-4284-b856-190da3bcbf10",
   "metadata": {},
   "outputs": [
    {
     "name": "stdout",
     "output_type": "stream",
     "text": [
      "{1, 2, 3}\n"
     ]
    }
   ],
   "source": [
    "print(daily_pints)"
   ]
  },
  {
   "cell_type": "code",
   "execution_count": 69,
   "id": "b8d0a9a2-48e6-4bf5-92a5-d134502317cf",
   "metadata": {},
   "outputs": [
    {
     "name": "stdout",
     "output_type": "stream",
     "text": [
      "{1, 2, 3, 4, 5, 6, 31}\n"
     ]
    }
   ],
   "source": [
    "daily_pints_log = {1,2,31,2,3,4,1,2,5,6,3,2}\n",
    "\n",
    "print(daily_pints_log)"
   ]
  },
  {
   "cell_type": "code",
   "execution_count": 78,
   "id": "78ba04a9-10e0-4dc7-96b2-a767b3429be3",
   "metadata": {},
   "outputs": [
    {
     "name": "stdout",
     "output_type": "stream",
     "text": [
      "{1, 2, 3, 4, 5, 6, 31}\n"
     ]
    }
   ],
   "source": [
    "daily_pints =  {1,2,3}\n",
    "\n",
    "daily_pints_log = {1,2,31,2,3,4,1,2,5,6,3,2}\n",
    "\n",
    "print(daily_pints and daily_pints_log)"
   ]
  },
  {
   "cell_type": "code",
   "execution_count": null,
   "id": "98ec8e48-4b98-43c6-945e-631b749caee8",
   "metadata": {},
   "outputs": [],
   "source": []
  },
  {
   "cell_type": "code",
   "execution_count": 79,
   "id": "ed2822b3-7478-437c-baff-ab8231a05872",
   "metadata": {},
   "outputs": [
    {
     "data": {
      "text/plain": [
       "dict"
      ]
     },
     "execution_count": 79,
     "metadata": {},
     "output_type": "execute_result"
    }
   ],
   "source": [
    "#####---DICTIONARIES\n",
    "#KEY/VALUE PAIR\n",
    "\n",
    "dict_cream = {'name': 'Alex Freberg', 'weekly intake': 5, 'favorite ice creams': ['MCC', 'Chocolate']}\n",
    "\n",
    "type(dict_cream)"
   ]
  },
  {
   "cell_type": "code",
   "execution_count": 80,
   "id": "e48f9e1a-942a-4454-901e-84ffb5c48fc8",
   "metadata": {},
   "outputs": [
    {
     "name": "stdout",
     "output_type": "stream",
     "text": [
      "{'name': 'Alex Freberg', 'weekly intake': 5, 'favorite ice creams': ['MCC', 'Chocolate']}\n"
     ]
    }
   ],
   "source": [
    "print(dict_cream)"
   ]
  },
  {
   "cell_type": "code",
   "execution_count": 81,
   "id": "c1bc4d64-57a6-401e-992a-6fbfca37f273",
   "metadata": {},
   "outputs": [
    {
     "data": {
      "text/plain": [
       "dict_keys(['name', 'weekly intake', 'favorite ice creams'])"
      ]
     },
     "execution_count": 81,
     "metadata": {},
     "output_type": "execute_result"
    }
   ],
   "source": [
    "dict_cream.keys()"
   ]
  },
  {
   "cell_type": "code",
   "execution_count": 82,
   "id": "60fb986b-19fb-466f-b356-424f6c12c7d3",
   "metadata": {},
   "outputs": [
    {
     "data": {
      "text/plain": [
       "dict_values(['Alex Freberg', 5, ['MCC', 'Chocolate']])"
      ]
     },
     "execution_count": 82,
     "metadata": {},
     "output_type": "execute_result"
    }
   ],
   "source": [
    "dict_cream.values()"
   ]
  },
  {
   "cell_type": "code",
   "execution_count": 86,
   "id": "5289a155-6376-4d28-a8ac-fb1695a3a6e3",
   "metadata": {},
   "outputs": [
    {
     "data": {
      "text/plain": [
       "dict_items([('name', 'Alex Freberg'), ('weekly intake', 5), ('favorite ice creams', ['MCC', 'Chocolate'])])"
      ]
     },
     "execution_count": 86,
     "metadata": {},
     "output_type": "execute_result"
    }
   ],
   "source": [
    "dict_cream.items()"
   ]
  },
  {
   "cell_type": "code",
   "execution_count": 88,
   "id": "30841b83-e27f-4cf3-8a26-6a3c38b3f034",
   "metadata": {},
   "outputs": [
    {
     "data": {
      "text/plain": [
       "'Alex Freberg'"
      ]
     },
     "execution_count": 88,
     "metadata": {},
     "output_type": "execute_result"
    }
   ],
   "source": [
    "dict_cream['name']"
   ]
  },
  {
   "cell_type": "code",
   "execution_count": 90,
   "id": "26bd11d8-6aa5-42af-9e90-0486aa3441ec",
   "metadata": {},
   "outputs": [
    {
     "name": "stdout",
     "output_type": "stream",
     "text": [
      "Ishola Mayokun\n"
     ]
    }
   ],
   "source": [
    "dict_cream['name'] = 'Ishola Mayokun'\n",
    "\n",
    "print(dict_cream['name'])"
   ]
  },
  {
   "cell_type": "code",
   "execution_count": 91,
   "id": "e0435674-0dc1-4890-bab9-ce33ef49dff8",
   "metadata": {},
   "outputs": [
    {
     "name": "stdout",
     "output_type": "stream",
     "text": [
      "{'name': 'Ishola Mayokun', 'weekly intake': 5, 'favorite ice creams': ['MCC', 'Chocolate']}\n"
     ]
    }
   ],
   "source": [
    "print(dict_cream)"
   ]
  },
  {
   "cell_type": "code",
   "execution_count": 97,
   "id": "46ac0e08-2ce5-4cc8-9382-e715f0000557",
   "metadata": {},
   "outputs": [
    {
     "name": "stdout",
     "output_type": "stream",
     "text": [
      "{'name': 'Ishola Mayokun', 'weekly intake': 20, 'favorite ice creams': ['MCC', 'Chocolate'], 'weight': 300}\n"
     ]
    }
   ],
   "source": [
    "dict_cream.update({'name': 'Ishola Mayokun', 'weekly intake': 20, 'weight': 300})\n",
    "\n",
    "print(dict_cream)"
   ]
  },
  {
   "cell_type": "code",
   "execution_count": 98,
   "id": "a97cfa1f-4125-4779-8586-1b6af48b4857",
   "metadata": {},
   "outputs": [
    {
     "name": "stdout",
     "output_type": "stream",
     "text": [
      "{'name': 'Ishola Mayokun', 'weekly intake': 20, 'favorite ice creams': ['MCC', 'Chocolate'], 'weight': 300}\n"
     ]
    }
   ],
   "source": [
    "print(dict_cream)"
   ]
  },
  {
   "cell_type": "code",
   "execution_count": null,
   "id": "a9d9f308-028d-495d-8e24-ed14d43809fa",
   "metadata": {},
   "outputs": [],
   "source": []
  },
  {
   "cell_type": "code",
   "execution_count": 99,
   "id": "42491ad6-2a6a-4d8b-ae0e-4b7c3aa2990a",
   "metadata": {},
   "outputs": [
    {
     "name": "stdout",
     "output_type": "stream",
     "text": [
      "{'name': 'Ishola Mayokun', 'weekly intake': 20, 'favorite ice creams': ['MCC', 'Chocolate']}\n"
     ]
    }
   ],
   "source": [
    "del dict_cream['weight']\n",
    "\n",
    "print(dict_cream)"
   ]
  },
  {
   "cell_type": "code",
   "execution_count": null,
   "id": "76f2ba1a-3170-4282-8391-59df158ca29f",
   "metadata": {},
   "outputs": [],
   "source": []
  },
  {
   "cell_type": "code",
   "execution_count": null,
   "id": "0f6e24c3-47d0-416f-bd87-028ac679036e",
   "metadata": {},
   "outputs": [],
   "source": [
    "######COMPARISON-LOGICAL-MEMBERSHIP OPERATOR"
   ]
  },
  {
   "cell_type": "code",
   "execution_count": 100,
   "id": "07cd0497-634e-431c-bd52-ba195162b829",
   "metadata": {},
   "outputs": [
    {
     "data": {
      "text/plain": [
       "True"
      ]
     },
     "execution_count": 100,
     "metadata": {},
     "output_type": "execute_result"
    }
   ],
   "source": [
    " 10 == 10"
   ]
  },
  {
   "cell_type": "code",
   "execution_count": 101,
   "id": "d68e1d96-e257-46db-9ad5-a7c68dfc6204",
   "metadata": {},
   "outputs": [
    {
     "data": {
      "text/plain": [
       "True"
      ]
     },
     "execution_count": 101,
     "metadata": {},
     "output_type": "execute_result"
    }
   ],
   "source": [
    " 10 != 50"
   ]
  },
  {
   "cell_type": "code",
   "execution_count": 105,
   "id": "04cb0220-b425-441a-9d1c-f593886a08bf",
   "metadata": {},
   "outputs": [
    {
     "name": "stdout",
     "output_type": "stream",
     "text": [
      "40\n"
     ]
    }
   ],
   "source": [
    "x = 40\n",
    "y = x\n",
    "print(y)"
   ]
  },
  {
   "cell_type": "code",
   "execution_count": 107,
   "id": "75783dd8-1cd1-440f-8237-1d30c57766f4",
   "metadata": {},
   "outputs": [
    {
     "data": {
      "text/plain": [
       "True"
      ]
     },
     "execution_count": 107,
     "metadata": {},
     "output_type": "execute_result"
    }
   ],
   "source": [
    "4 <= 4"
   ]
  },
  {
   "cell_type": "code",
   "execution_count": 108,
   "id": "cc61de79-74a7-4242-8d2e-8d07f8718db5",
   "metadata": {},
   "outputs": [
    {
     "data": {
      "text/plain": [
       "False"
      ]
     },
     "execution_count": 108,
     "metadata": {},
     "output_type": "execute_result"
    }
   ],
   "source": [
    "####---and returns true if both statements are true\n",
    "\n",
    "(10 > 10) and (50 > 20)"
   ]
  },
  {
   "cell_type": "code",
   "execution_count": 109,
   "id": "bc59e12a-4c55-4a6e-8501-0a853899900a",
   "metadata": {},
   "outputs": [
    {
     "data": {
      "text/plain": [
       "True"
      ]
     },
     "execution_count": 109,
     "metadata": {},
     "output_type": "execute_result"
    }
   ],
   "source": [
    "#####---or returns true if one of the statement is true\n",
    "\n",
    "(10 < 30) or (50 > 100)"
   ]
  },
  {
   "cell_type": "code",
   "execution_count": 110,
   "id": "839be263-c1ea-4ee8-92b2-5b1adf9a8732",
   "metadata": {},
   "outputs": [
    {
     "data": {
      "text/plain": [
       "True"
      ]
     },
     "execution_count": 110,
     "metadata": {},
     "output_type": "execute_result"
    }
   ],
   "source": [
    "('vanilla' > 'chocolate') or (50 > 100)"
   ]
  },
  {
   "cell_type": "code",
   "execution_count": 111,
   "id": "d284734f-61d7-4ae2-8a70-3375ef752bb6",
   "metadata": {},
   "outputs": [
    {
     "data": {
      "text/plain": [
       "True"
      ]
     },
     "execution_count": 111,
     "metadata": {},
     "output_type": "execute_result"
    }
   ],
   "source": [
    "ice_cream = 'i love chocolate ice cream'\n",
    "\n",
    "'love' in ice_cream"
   ]
  },
  {
   "cell_type": "code",
   "execution_count": 114,
   "id": "d10f18b5-a77b-454e-9184-301d00dfa984",
   "metadata": {},
   "outputs": [
    {
     "data": {
      "text/plain": [
       "False"
      ]
     },
     "execution_count": 114,
     "metadata": {},
     "output_type": "execute_result"
    }
   ],
   "source": [
    "scoops = [1,2,3,4,5,6,7,8,9]\n",
    "\n",
    "5 in scoops\n",
    "\n",
    "5 not in scoops"
   ]
  },
  {
   "cell_type": "code",
   "execution_count": null,
   "id": "842adce4-6e4e-41e7-a252-6615f02889c8",
   "metadata": {},
   "outputs": [],
   "source": []
  },
  {
   "cell_type": "code",
   "execution_count": 129,
   "id": "e204b438-26df-4b43-92ec-9a69b3a04988",
   "metadata": {},
   "outputs": [
    {
     "name": "stdout",
     "output_type": "stream",
     "text": [
      "FUCK OFF!!!\n"
     ]
    }
   ],
   "source": [
    "#####---IF-ELIF-ELSE STATEMENTS\n",
    "\n",
    "scoops = [1,2,3,4,5,6,7,8,9]\n",
    "\n",
    "if 20 in scoops:\n",
    "            print('YES!')\n",
    "else: \n",
    "    print('FUCK OFF!!!')"
   ]
  },
  {
   "cell_type": "code",
   "execution_count": 131,
   "id": "5db1017b-2280-4fc9-bd67-78f62123f76d",
   "metadata": {},
   "outputs": [
    {
     "name": "stdout",
     "output_type": "stream",
     "text": [
      "na you sabi oo!!!\n"
     ]
    }
   ],
   "source": [
    "if 'america' > 'uk':\n",
    "    print('Che che japa oo!')\n",
    "else:\n",
    "    print('na you sabi oo!!!')"
   ]
  },
  {
   "cell_type": "code",
   "execution_count": 132,
   "id": "386079b2-75f4-41e6-a2d5-304e5a4ded5b",
   "metadata": {},
   "outputs": [
    {
     "name": "stdout",
     "output_type": "stream",
     "text": [
      "wahala!!\n"
     ]
    }
   ],
   "source": [
    "if 'america' > 'spain':\n",
    "    print('wetin you dey find!!!!')\n",
    "elif 'america' < 'malta':\n",
    "    print('wahala!!')\n",
    "else:\n",
    "    print('lets fucking go!!')"
   ]
  },
  {
   "cell_type": "code",
   "execution_count": 134,
   "id": "db7001ce-9f96-437e-8501-735ea301d95c",
   "metadata": {},
   "outputs": [
    {
     "name": "stdout",
     "output_type": "stream",
     "text": [
      "wetin you dey find!!!!\n",
      "well its true!!\n"
     ]
    }
   ],
   "source": [
    "if 'america' > 'spain' or 'zambia' > 'cotonuo':\n",
    "    print('wetin you dey find!!!!')\n",
    "    if 'america' < 'denmark':\n",
    "        print('well its true!!')\n",
    "elif 'america' < 'malta':\n",
    "    print('wahala!!')\n",
    "else:\n",
    "    print('lets fucking go!!')"
   ]
  },
  {
   "cell_type": "code",
   "execution_count": null,
   "id": "80aacca5-a8db-492e-81ac-06f0290c0577",
   "metadata": {},
   "outputs": [],
   "source": []
  },
  {
   "cell_type": "code",
   "execution_count": null,
   "id": "61655bc2-9853-4258-bc26-d4c0557b704b",
   "metadata": {},
   "outputs": [],
   "source": [
    "#####---FOR LOOPS AND NESTED FOR LOOPS"
   ]
  },
  {
   "cell_type": "code",
   "execution_count": 147,
   "id": "059701d6-9579-435d-8a3e-8a0de18b6527",
   "metadata": {},
   "outputs": [
    {
     "name": "stdout",
     "output_type": "stream",
     "text": [
      "Yes!!\n",
      "Yes!!\n",
      "Yes!!\n",
      "Yes!!\n",
      "Yes!!\n",
      "Yes!!\n",
      "Yes!!\n",
      "its here!!\n"
     ]
    }
   ],
   "source": [
    "jelly = [1,2,3,4,5,6,7]\n",
    "\n",
    "for number in jelly:\n",
    "    print('Yes!!')\n",
    "else:\n",
    "    print('its here!!')"
   ]
  },
  {
   "cell_type": "code",
   "execution_count": 155,
   "id": "b5e66c0e-5f7d-46f4-9907-542c058e9164",
   "metadata": {},
   "outputs": [
    {
     "name": "stdout",
     "output_type": "stream",
     "text": [
      "name\n",
      "weekly intake\n",
      "favorite ice creams\n"
     ]
    }
   ],
   "source": [
    "dict_cream = {'name': 'Alex Freberg', 'weekly intake': 5, 'favorite ice creams': ['MCC', 'Chocolate']}\n",
    "\n",
    "for cream in dict_cream.keys(): \n",
    "    print(cream)"
   ]
  },
  {
   "cell_type": "code",
   "execution_count": 158,
   "id": "8007bda7-867a-49de-8c65-439f5241c66d",
   "metadata": {},
   "outputs": [
    {
     "name": "stdout",
     "output_type": "stream",
     "text": [
      "name -> Alex Freberg\n",
      "weekly intake -> 5\n",
      "favorite ice creams -> ['MCC', 'Chocolate']\n"
     ]
    }
   ],
   "source": [
    "dict_cream = {'name': 'Alex Freberg', 'weekly intake': 5, 'favorite ice creams': ['MCC', 'Chocolate']}\n",
    "\n",
    "for key, value in dict_cream.items(): \n",
    "    print(key, '->', value)"
   ]
  },
  {
   "cell_type": "code",
   "execution_count": 159,
   "id": "61ebe268-9bcd-4455-9710-21b6863549e9",
   "metadata": {},
   "outputs": [
    {
     "name": "stdout",
     "output_type": "stream",
     "text": [
      "biola : olabisi\n",
      "biola : adegoke\n",
      "biola : ishola\n",
      "tunji : olabisi\n",
      "tunji : adegoke\n",
      "tunji : ishola\n",
      "sola : olabisi\n",
      "sola : adegoke\n",
      "sola : ishola\n"
     ]
    }
   ],
   "source": [
    "#####---NESTED FOR LOOPS\n",
    "\n",
    "nested_loop_1 = ['biola', 'tunji', 'sola']\n",
    "nested_loop_2 = ['olabisi', 'adegoke', 'ishola']\n",
    "\n",
    "for one in nested_loop_1:\n",
    "    for two in nested_loop_2:\n",
    "        print(one, ':', two)"
   ]
  },
  {
   "cell_type": "code",
   "execution_count": null,
   "id": "c61a1b3d-8ee9-4aa3-9149-57aae290c8f7",
   "metadata": {},
   "outputs": [],
   "source": []
  },
  {
   "cell_type": "code",
   "execution_count": 161,
   "id": "ff619732-a428-4fb9-bb96-eb25184af864",
   "metadata": {},
   "outputs": [
    {
     "name": "stdout",
     "output_type": "stream",
     "text": [
      "0\n",
      "1\n",
      "2\n",
      "3\n",
      "4\n",
      "5\n"
     ]
    }
   ],
   "source": [
    "#####---WHILE LOOP\n",
    "\n",
    "number = 0\n",
    "while number < 6:\n",
    "    print(number)\n",
    "    number = number + 1"
   ]
  },
  {
   "cell_type": "code",
   "execution_count": 163,
   "id": "7afcf7ee-1301-4724-8ad4-f02de3f70f53",
   "metadata": {},
   "outputs": [
    {
     "name": "stdout",
     "output_type": "stream",
     "text": [
      "0\n",
      "1\n",
      "2\n",
      "3\n",
      "4\n",
      "5\n"
     ]
    }
   ],
   "source": [
    "number = 0\n",
    "while number < 6:\n",
    "    print(number)\n",
    "    if number == 3.5:\n",
    "        break\n",
    "    number = number + 1"
   ]
  },
  {
   "cell_type": "code",
   "execution_count": 164,
   "id": "5a60b12a-6926-48f5-91b9-09ffec36cf0b",
   "metadata": {},
   "outputs": [
    {
     "name": "stdout",
     "output_type": "stream",
     "text": [
      "0\n",
      "1\n",
      "2\n",
      "3\n",
      "4\n",
      "5\n",
      "no longer less then 6\n"
     ]
    }
   ],
   "source": [
    "number = 0\n",
    "while number < 6:\n",
    "    print(number)\n",
    "    if number == 9:\n",
    "        break\n",
    "    number = number + 1\n",
    "else:\n",
    "    print('no longer less then 6')"
   ]
  },
  {
   "cell_type": "code",
   "execution_count": 165,
   "id": "1d2a6a99-2cab-4f85-8e90-d59dc6d7143b",
   "metadata": {},
   "outputs": [
    {
     "name": "stdout",
     "output_type": "stream",
     "text": [
      "1\n",
      "2\n",
      "4\n",
      "5\n",
      "6\n",
      "no longer less then 6\n"
     ]
    }
   ],
   "source": [
    "number = 0\n",
    "while number < 6:\n",
    "    number = number + 1\n",
    "    if number == 3:\n",
    "        continue\n",
    "    print(number)\n",
    "else: \n",
    "    print('no longer less then 6')"
   ]
  },
  {
   "cell_type": "code",
   "execution_count": null,
   "id": "7f633daa-69d7-4bfa-af77-757ea2b6204c",
   "metadata": {},
   "outputs": [],
   "source": []
  },
  {
   "cell_type": "code",
   "execution_count": null,
   "id": "ab06d4d0-e048-4499-a7b9-da0a192804c9",
   "metadata": {},
   "outputs": [],
   "source": []
  },
  {
   "cell_type": "code",
   "execution_count": null,
   "id": "56f4cd2a-fc0d-45ab-ab96-6d74c6626491",
   "metadata": {},
   "outputs": [],
   "source": []
  },
  {
   "cell_type": "code",
   "execution_count": null,
   "id": "cda484ae-b0c1-4d2c-a8ec-b21b1f63a71a",
   "metadata": {},
   "outputs": [],
   "source": []
  },
  {
   "cell_type": "code",
   "execution_count": null,
   "id": "ec0968c0-666e-4a02-b65e-5960b806482c",
   "metadata": {},
   "outputs": [],
   "source": []
  }
 ],
 "metadata": {
  "kernelspec": {
   "display_name": "Python 3 (ipykernel)",
   "language": "python",
   "name": "python3"
  },
  "language_info": {
   "codemirror_mode": {
    "name": "ipython",
    "version": 3
   },
   "file_extension": ".py",
   "mimetype": "text/x-python",
   "name": "python",
   "nbconvert_exporter": "python",
   "pygments_lexer": "ipython3",
   "version": "3.11.7"
  }
 },
 "nbformat": 4,
 "nbformat_minor": 5
}
